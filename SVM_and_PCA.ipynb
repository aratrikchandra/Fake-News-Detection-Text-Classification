{
  "nbformat": 4,
  "nbformat_minor": 0,
  "metadata": {
    "colab": {
      "provenance": [],
      "gpuType": "T4"
    },
    "kernelspec": {
      "name": "python3",
      "display_name": "Python 3"
    },
    "language_info": {
      "name": "python"
    },
    "accelerator": "GPU"
  },
  "cells": [
    {
      "cell_type": "code",
      "source": [
        "!rm -rf \"/content/Fake-News-Detection-Text-Classification\""
      ],
      "metadata": {
        "id": "XQw1e9v1MOz5"
      },
      "execution_count": 1,
      "outputs": []
    },
    {
      "cell_type": "code",
      "execution_count": 2,
      "metadata": {
        "id": "9Eqdm6Z5FQdh"
      },
      "outputs": [],
      "source": [
        "import pandas as pd"
      ]
    },
    {
      "cell_type": "code",
      "source": [
        "!git clone https://github.com/shariqfz/Fake-News-Detection-Text-Classification.git"
      ],
      "metadata": {
        "colab": {
          "base_uri": "https://localhost:8080/"
        },
        "id": "YxUAjsf6FSeD",
        "outputId": "4b6555c2-f649-4b63-acf4-4b8dbf137e2b"
      },
      "execution_count": 3,
      "outputs": [
        {
          "output_type": "stream",
          "name": "stdout",
          "text": [
            "Cloning into 'Fake-News-Detection-Text-Classification'...\n",
            "remote: Enumerating objects: 93, done.\u001b[K\n",
            "remote: Counting objects: 100% (84/84), done.\u001b[K\n",
            "remote: Compressing objects: 100% (75/75), done.\u001b[K\n",
            "remote: Total 93 (delta 35), reused 23 (delta 5), pack-reused 9\u001b[K\n",
            "Receiving objects: 100% (93/93), 143.00 MiB | 14.34 MiB/s, done.\n",
            "Resolving deltas: 100% (35/35), done.\n",
            "Updating files: 100% (18/18), done.\n"
          ]
        }
      ]
    },
    {
      "cell_type": "code",
      "source": [
        "# data_path = \"/content/Fake-News-Detection-Text-Classification/data/HateSpeech/hate_speech_cleaned_and_stopword_removed_combined_data.csv\"\n",
        "\n",
        "hate_speech_data_path = \"/content/Fake-News-Detection-Text-Classification/data/hate_speech_concatenated_in_text.csv\"\n",
        "\n",
        "data = pd.read_csv(hate_speech_data_path)"
      ],
      "metadata": {
        "id": "eXRuFS2zFYHo"
      },
      "execution_count": 4,
      "outputs": []
    },
    {
      "cell_type": "code",
      "source": [
        "data.head()"
      ],
      "metadata": {
        "colab": {
          "base_uri": "https://localhost:8080/",
          "height": 206
        },
        "id": "6uRl4uqQFlhb",
        "outputId": "d2a2f4f9-2007-48d1-db8e-ffc3d990a5de"
      },
      "execution_count": 5,
      "outputs": [
        {
          "output_type": "execute_result",
          "data": {
            "text/plain": [
              "   Unnamed: 0                                               text  Label  \\\n",
              "0       17226  seven miner kill one miss coal mine collaps tu...    1.0   \n",
              "1       10782  treasuri weiss wit hous puerto rico hear offic...    1.0   \n",
              "2       19623  least peopl kill earthquak mexico least peopl ...    1.0   \n",
              "3       16853  graft probe mexico presid alli pose tricki cha...    1.0   \n",
              "4        9050  us militari say disclos detail injur servic me...    1.0   \n",
              "\n",
              "   hate_speech_class  \n",
              "0                  0  \n",
              "1                  1  \n",
              "2                  0  \n",
              "3                  0  \n",
              "4                  2  "
            ],
            "text/html": [
              "\n",
              "  <div id=\"df-f0f0bfb9-c8ac-4215-8427-8cf1c0b498aa\" class=\"colab-df-container\">\n",
              "    <div>\n",
              "<style scoped>\n",
              "    .dataframe tbody tr th:only-of-type {\n",
              "        vertical-align: middle;\n",
              "    }\n",
              "\n",
              "    .dataframe tbody tr th {\n",
              "        vertical-align: top;\n",
              "    }\n",
              "\n",
              "    .dataframe thead th {\n",
              "        text-align: right;\n",
              "    }\n",
              "</style>\n",
              "<table border=\"1\" class=\"dataframe\">\n",
              "  <thead>\n",
              "    <tr style=\"text-align: right;\">\n",
              "      <th></th>\n",
              "      <th>Unnamed: 0</th>\n",
              "      <th>text</th>\n",
              "      <th>Label</th>\n",
              "      <th>hate_speech_class</th>\n",
              "    </tr>\n",
              "  </thead>\n",
              "  <tbody>\n",
              "    <tr>\n",
              "      <th>0</th>\n",
              "      <td>17226</td>\n",
              "      <td>seven miner kill one miss coal mine collaps tu...</td>\n",
              "      <td>1.0</td>\n",
              "      <td>0</td>\n",
              "    </tr>\n",
              "    <tr>\n",
              "      <th>1</th>\n",
              "      <td>10782</td>\n",
              "      <td>treasuri weiss wit hous puerto rico hear offic...</td>\n",
              "      <td>1.0</td>\n",
              "      <td>1</td>\n",
              "    </tr>\n",
              "    <tr>\n",
              "      <th>2</th>\n",
              "      <td>19623</td>\n",
              "      <td>least peopl kill earthquak mexico least peopl ...</td>\n",
              "      <td>1.0</td>\n",
              "      <td>0</td>\n",
              "    </tr>\n",
              "    <tr>\n",
              "      <th>3</th>\n",
              "      <td>16853</td>\n",
              "      <td>graft probe mexico presid alli pose tricki cha...</td>\n",
              "      <td>1.0</td>\n",
              "      <td>0</td>\n",
              "    </tr>\n",
              "    <tr>\n",
              "      <th>4</th>\n",
              "      <td>9050</td>\n",
              "      <td>us militari say disclos detail injur servic me...</td>\n",
              "      <td>1.0</td>\n",
              "      <td>2</td>\n",
              "    </tr>\n",
              "  </tbody>\n",
              "</table>\n",
              "</div>\n",
              "    <div class=\"colab-df-buttons\">\n",
              "\n",
              "  <div class=\"colab-df-container\">\n",
              "    <button class=\"colab-df-convert\" onclick=\"convertToInteractive('df-f0f0bfb9-c8ac-4215-8427-8cf1c0b498aa')\"\n",
              "            title=\"Convert this dataframe to an interactive table.\"\n",
              "            style=\"display:none;\">\n",
              "\n",
              "  <svg xmlns=\"http://www.w3.org/2000/svg\" height=\"24px\" viewBox=\"0 -960 960 960\">\n",
              "    <path d=\"M120-120v-720h720v720H120Zm60-500h600v-160H180v160Zm220 220h160v-160H400v160Zm0 220h160v-160H400v160ZM180-400h160v-160H180v160Zm440 0h160v-160H620v160ZM180-180h160v-160H180v160Zm440 0h160v-160H620v160Z\"/>\n",
              "  </svg>\n",
              "    </button>\n",
              "\n",
              "  <style>\n",
              "    .colab-df-container {\n",
              "      display:flex;\n",
              "      gap: 12px;\n",
              "    }\n",
              "\n",
              "    .colab-df-convert {\n",
              "      background-color: #E8F0FE;\n",
              "      border: none;\n",
              "      border-radius: 50%;\n",
              "      cursor: pointer;\n",
              "      display: none;\n",
              "      fill: #1967D2;\n",
              "      height: 32px;\n",
              "      padding: 0 0 0 0;\n",
              "      width: 32px;\n",
              "    }\n",
              "\n",
              "    .colab-df-convert:hover {\n",
              "      background-color: #E2EBFA;\n",
              "      box-shadow: 0px 1px 2px rgba(60, 64, 67, 0.3), 0px 1px 3px 1px rgba(60, 64, 67, 0.15);\n",
              "      fill: #174EA6;\n",
              "    }\n",
              "\n",
              "    .colab-df-buttons div {\n",
              "      margin-bottom: 4px;\n",
              "    }\n",
              "\n",
              "    [theme=dark] .colab-df-convert {\n",
              "      background-color: #3B4455;\n",
              "      fill: #D2E3FC;\n",
              "    }\n",
              "\n",
              "    [theme=dark] .colab-df-convert:hover {\n",
              "      background-color: #434B5C;\n",
              "      box-shadow: 0px 1px 3px 1px rgba(0, 0, 0, 0.15);\n",
              "      filter: drop-shadow(0px 1px 2px rgba(0, 0, 0, 0.3));\n",
              "      fill: #FFFFFF;\n",
              "    }\n",
              "  </style>\n",
              "\n",
              "    <script>\n",
              "      const buttonEl =\n",
              "        document.querySelector('#df-f0f0bfb9-c8ac-4215-8427-8cf1c0b498aa button.colab-df-convert');\n",
              "      buttonEl.style.display =\n",
              "        google.colab.kernel.accessAllowed ? 'block' : 'none';\n",
              "\n",
              "      async function convertToInteractive(key) {\n",
              "        const element = document.querySelector('#df-f0f0bfb9-c8ac-4215-8427-8cf1c0b498aa');\n",
              "        const dataTable =\n",
              "          await google.colab.kernel.invokeFunction('convertToInteractive',\n",
              "                                                    [key], {});\n",
              "        if (!dataTable) return;\n",
              "\n",
              "        const docLinkHtml = 'Like what you see? Visit the ' +\n",
              "          '<a target=\"_blank\" href=https://colab.research.google.com/notebooks/data_table.ipynb>data table notebook</a>'\n",
              "          + ' to learn more about interactive tables.';\n",
              "        element.innerHTML = '';\n",
              "        dataTable['output_type'] = 'display_data';\n",
              "        await google.colab.output.renderOutput(dataTable, element);\n",
              "        const docLink = document.createElement('div');\n",
              "        docLink.innerHTML = docLinkHtml;\n",
              "        element.appendChild(docLink);\n",
              "      }\n",
              "    </script>\n",
              "  </div>\n",
              "\n",
              "\n",
              "<div id=\"df-87ff9ca4-2a1a-4a28-a97b-0a4cac5a419b\">\n",
              "  <button class=\"colab-df-quickchart\" onclick=\"quickchart('df-87ff9ca4-2a1a-4a28-a97b-0a4cac5a419b')\"\n",
              "            title=\"Suggest charts\"\n",
              "            style=\"display:none;\">\n",
              "\n",
              "<svg xmlns=\"http://www.w3.org/2000/svg\" height=\"24px\"viewBox=\"0 0 24 24\"\n",
              "     width=\"24px\">\n",
              "    <g>\n",
              "        <path d=\"M19 3H5c-1.1 0-2 .9-2 2v14c0 1.1.9 2 2 2h14c1.1 0 2-.9 2-2V5c0-1.1-.9-2-2-2zM9 17H7v-7h2v7zm4 0h-2V7h2v10zm4 0h-2v-4h2v4z\"/>\n",
              "    </g>\n",
              "</svg>\n",
              "  </button>\n",
              "\n",
              "<style>\n",
              "  .colab-df-quickchart {\n",
              "      --bg-color: #E8F0FE;\n",
              "      --fill-color: #1967D2;\n",
              "      --hover-bg-color: #E2EBFA;\n",
              "      --hover-fill-color: #174EA6;\n",
              "      --disabled-fill-color: #AAA;\n",
              "      --disabled-bg-color: #DDD;\n",
              "  }\n",
              "\n",
              "  [theme=dark] .colab-df-quickchart {\n",
              "      --bg-color: #3B4455;\n",
              "      --fill-color: #D2E3FC;\n",
              "      --hover-bg-color: #434B5C;\n",
              "      --hover-fill-color: #FFFFFF;\n",
              "      --disabled-bg-color: #3B4455;\n",
              "      --disabled-fill-color: #666;\n",
              "  }\n",
              "\n",
              "  .colab-df-quickchart {\n",
              "    background-color: var(--bg-color);\n",
              "    border: none;\n",
              "    border-radius: 50%;\n",
              "    cursor: pointer;\n",
              "    display: none;\n",
              "    fill: var(--fill-color);\n",
              "    height: 32px;\n",
              "    padding: 0;\n",
              "    width: 32px;\n",
              "  }\n",
              "\n",
              "  .colab-df-quickchart:hover {\n",
              "    background-color: var(--hover-bg-color);\n",
              "    box-shadow: 0 1px 2px rgba(60, 64, 67, 0.3), 0 1px 3px 1px rgba(60, 64, 67, 0.15);\n",
              "    fill: var(--button-hover-fill-color);\n",
              "  }\n",
              "\n",
              "  .colab-df-quickchart-complete:disabled,\n",
              "  .colab-df-quickchart-complete:disabled:hover {\n",
              "    background-color: var(--disabled-bg-color);\n",
              "    fill: var(--disabled-fill-color);\n",
              "    box-shadow: none;\n",
              "  }\n",
              "\n",
              "  .colab-df-spinner {\n",
              "    border: 2px solid var(--fill-color);\n",
              "    border-color: transparent;\n",
              "    border-bottom-color: var(--fill-color);\n",
              "    animation:\n",
              "      spin 1s steps(1) infinite;\n",
              "  }\n",
              "\n",
              "  @keyframes spin {\n",
              "    0% {\n",
              "      border-color: transparent;\n",
              "      border-bottom-color: var(--fill-color);\n",
              "      border-left-color: var(--fill-color);\n",
              "    }\n",
              "    20% {\n",
              "      border-color: transparent;\n",
              "      border-left-color: var(--fill-color);\n",
              "      border-top-color: var(--fill-color);\n",
              "    }\n",
              "    30% {\n",
              "      border-color: transparent;\n",
              "      border-left-color: var(--fill-color);\n",
              "      border-top-color: var(--fill-color);\n",
              "      border-right-color: var(--fill-color);\n",
              "    }\n",
              "    40% {\n",
              "      border-color: transparent;\n",
              "      border-right-color: var(--fill-color);\n",
              "      border-top-color: var(--fill-color);\n",
              "    }\n",
              "    60% {\n",
              "      border-color: transparent;\n",
              "      border-right-color: var(--fill-color);\n",
              "    }\n",
              "    80% {\n",
              "      border-color: transparent;\n",
              "      border-right-color: var(--fill-color);\n",
              "      border-bottom-color: var(--fill-color);\n",
              "    }\n",
              "    90% {\n",
              "      border-color: transparent;\n",
              "      border-bottom-color: var(--fill-color);\n",
              "    }\n",
              "  }\n",
              "</style>\n",
              "\n",
              "  <script>\n",
              "    async function quickchart(key) {\n",
              "      const quickchartButtonEl =\n",
              "        document.querySelector('#' + key + ' button');\n",
              "      quickchartButtonEl.disabled = true;  // To prevent multiple clicks.\n",
              "      quickchartButtonEl.classList.add('colab-df-spinner');\n",
              "      try {\n",
              "        const charts = await google.colab.kernel.invokeFunction(\n",
              "            'suggestCharts', [key], {});\n",
              "      } catch (error) {\n",
              "        console.error('Error during call to suggestCharts:', error);\n",
              "      }\n",
              "      quickchartButtonEl.classList.remove('colab-df-spinner');\n",
              "      quickchartButtonEl.classList.add('colab-df-quickchart-complete');\n",
              "    }\n",
              "    (() => {\n",
              "      let quickchartButtonEl =\n",
              "        document.querySelector('#df-87ff9ca4-2a1a-4a28-a97b-0a4cac5a419b button');\n",
              "      quickchartButtonEl.style.display =\n",
              "        google.colab.kernel.accessAllowed ? 'block' : 'none';\n",
              "    })();\n",
              "  </script>\n",
              "</div>\n",
              "    </div>\n",
              "  </div>\n"
            ]
          },
          "metadata": {},
          "execution_count": 5
        }
      ]
    },
    {
      "cell_type": "code",
      "source": [
        "data['text'].iloc[0]"
      ],
      "metadata": {
        "colab": {
          "base_uri": "https://localhost:8080/",
          "height": 52
        },
        "id": "XEFIk12xFq9Z",
        "outputId": "6ce81b8b-d99c-4754-cd74-23f04eacf0de"
      },
      "execution_count": 13,
      "outputs": [
        {
          "output_type": "execute_result",
          "data": {
            "text/plain": [
              "'obama say continu tri affect chang syria us presid barack obama thursday said would naiv expect degre turn russia syrian presid bashar al assad unit state alli would continu tri affect chang end deadli syrian crisi obama spoke joint news confer meet german chancellor angela merkel Neither Hate Speech nor Offensive'"
            ],
            "application/vnd.google.colaboratory.intrinsic+json": {
              "type": "string"
            }
          },
          "metadata": {},
          "execution_count": 13
        }
      ]
    },
    {
      "cell_type": "code",
      "source": [
        "\"\"\"\n",
        "class meanings:\n",
        "\n",
        "0 - hate speech\n",
        "1 - offensive language\n",
        "2 - neither\n",
        "\n",
        "\"\"\""
      ],
      "metadata": {
        "colab": {
          "base_uri": "https://localhost:8080/",
          "height": 35
        },
        "id": "FUiNNPeDFxuw",
        "outputId": "7d5e8cff-5795-4694-e000-d597135e6517"
      },
      "execution_count": 6,
      "outputs": [
        {
          "output_type": "execute_result",
          "data": {
            "text/plain": [
              "'\\nclass meanings:\\n\\n0 - hate speech\\n1 - offensive language\\n2 - neither\\n\\n'"
            ],
            "application/vnd.google.colaboratory.intrinsic+json": {
              "type": "string"
            }
          },
          "metadata": {},
          "execution_count": 6
        }
      ]
    },
    {
      "cell_type": "code",
      "source": [
        "from sklearn.model_selection import train_test_split\n",
        "X=data['text']\n",
        "Y=data['Label']\n",
        "x_train, x_test, y_train, y_test = train_test_split(X,Y,test_size = 0.30, random_state = 1)"
      ],
      "metadata": {
        "id": "M9uKkht-GMFA"
      },
      "execution_count": 7,
      "outputs": []
    },
    {
      "cell_type": "code",
      "source": [
        "from sklearn.model_selection import train_test_split\n",
        "from sklearn.feature_extraction.text import CountVectorizer\n",
        "from sklearn.impute import SimpleImputer\n",
        "from sklearn import svm\n",
        "import pandas as pd\n",
        "\n",
        "# Assuming you have a DataFrame fake_news_data\n",
        "X = data['text']\n",
        "Y = data['Label']\n",
        "\n",
        "# Split the data into training and testing sets\n",
        "x_train, x_test, y_train, y_test = train_test_split(X, Y, test_size=0.30, random_state=1)\n",
        "\n",
        "# Replace NaN values with an empty string\n",
        "x_train = x_train.fillna('')  # You can choose another placeholder if needed\n",
        "x_test = x_test.fillna('')    # You can choose another placeholder if needed\n",
        "\n",
        "# Initialize CountVectorizer\n",
        "vc = CountVectorizer()\n",
        "\n",
        "# Fit and transform both training and testing sets\n",
        "features = vc.fit_transform(x_train)\n",
        "features_test = vc.transform(x_test)\n",
        "\n",
        "# Perform imputation on y_train and y_test\n",
        "imputer = SimpleImputer(strategy='most_frequent')\n",
        "y_train_imputed = imputer.fit_transform(y_train.to_numpy().reshape(-1, 1))\n",
        "y_test_imputed = imputer.transform(y_test.to_numpy().reshape(-1, 1))\n",
        "\n",
        "# Initialize and train the SVM model\n",
        "model = svm.SVC()\n",
        "model.fit(features, y_train_imputed)\n",
        "\n",
        "# Check the accuracy on the testing set\n",
        "accuracy = model.score(features_test, y_test_imputed)\n",
        "print(f'Accuracy: {round(accuracy * 100, 2)}%')\n"
      ],
      "metadata": {
        "colab": {
          "base_uri": "https://localhost:8080/"
        },
        "id": "bXwDlmlYlFnK",
        "outputId": "9b8c6c74-120c-4ea9-c8fe-a4c281e69ea2"
      },
      "execution_count": 8,
      "outputs": [
        {
          "output_type": "stream",
          "name": "stderr",
          "text": [
            "/usr/local/lib/python3.10/dist-packages/sklearn/utils/validation.py:1143: DataConversionWarning: A column-vector y was passed when a 1d array was expected. Please change the shape of y to (n_samples, ), for example using ravel().\n",
            "  y = column_or_1d(y, warn=True)\n"
          ]
        },
        {
          "output_type": "stream",
          "name": "stdout",
          "text": [
            "Accuracy: 94.0%\n"
          ]
        }
      ]
    },
    {
      "cell_type": "code",
      "source": [
        "from sklearn.model_selection import train_test_split\n",
        "from sklearn.feature_extraction.text import CountVectorizer\n",
        "from sklearn.impute import SimpleImputer\n",
        "from sklearn import svm\n",
        "import pandas as pd\n",
        "\n",
        "# Assuming you have a DataFrame fake_news_data\n",
        "X = data['text']\n",
        "Y = data['Label']\n",
        "\n",
        "# Split the data into training and testing sets\n",
        "x_train, x_test, y_train, y_test = train_test_split(X, Y, test_size=0.30, random_state=1)\n",
        "\n",
        "# Replace NaN values with an empty string\n",
        "x_train = x_train.fillna('')  # You can choose another placeholder if needed\n",
        "x_test = x_test.fillna('')    # You can choose another placeholder if needed\n",
        "\n",
        "# Initialize CountVectorizer\n",
        "vc = CountVectorizer()\n",
        "\n",
        "# Fit and transform both training and testing sets\n",
        "features = vc.fit_transform(x_train)\n",
        "features_test = vc.transform(x_test)\n",
        "\n",
        "# Perform imputation on y_train and y_test\n",
        "imputer = SimpleImputer(strategy='most_frequent')\n",
        "y_train_imputed = imputer.fit_transform(y_train.to_numpy().reshape(-1, 1))\n",
        "y_test_imputed = imputer.transform(y_test.to_numpy().reshape(-1, 1))\n",
        "\n",
        "# Initialize and train the SVM model\n",
        "model = svm.SVC()\n",
        "model.fit(features, y_train_imputed)\n",
        "\n",
        "# Check the accuracy on the testing set\n",
        "accuracy = model.score(features_test, y_test_imputed)\n",
        "print(f'Accuracy: {round(accuracy * 100, 2)}%')\n"
      ],
      "metadata": {
        "id": "-hGn9wARUvuV",
        "colab": {
          "base_uri": "https://localhost:8080/"
        },
        "outputId": "776198e8-65c4-47c6-f19b-020a3fab7807"
      },
      "execution_count": 10,
      "outputs": [
        {
          "output_type": "stream",
          "name": "stderr",
          "text": [
            "/usr/local/lib/python3.10/dist-packages/sklearn/utils/validation.py:1143: DataConversionWarning: A column-vector y was passed when a 1d array was expected. Please change the shape of y to (n_samples, ), for example using ravel().\n",
            "  y = column_or_1d(y, warn=True)\n"
          ]
        },
        {
          "output_type": "stream",
          "name": "stdout",
          "text": [
            "Accuracy: 94.0%\n"
          ]
        }
      ]
    },
    {
      "cell_type": "code",
      "source": [
        "from sklearn.metrics import precision_score, recall_score, f1_score, confusion_matrix, classification_report\n",
        "import matplotlib.pyplot as plt\n",
        "import seaborn as sns\n",
        "\n",
        "# Predict the labels for the test set\n",
        "predicted_labels = model.predict(features_test)\n",
        "\n",
        "# Find misclassified instances\n",
        "misclassified_data = pd.DataFrame({'Text': x_test, 'Actual_Label': y_test_imputed.flatten(), 'Predicted_Label': predicted_labels})\n",
        "misclassified_data = misclassified_data[misclassified_data['Actual_Label'] != misclassified_data['Predicted_Label']]\n",
        "\n",
        "# Append misclassified instances to the DataFrame\n",
        "fake_news_data_misclassified = data.copy()\n",
        "fake_news_data_misclassified['Misclassified'] = False\n",
        "fake_news_data_misclassified.loc[fake_news_data_misclassified.index.isin(misclassified_data.index), 'Misclassified'] = True\n",
        "\n",
        "# Print misclassified instances\n",
        "print(\"Misclassified instances:\")\n",
        "print(misclassified_data)\n",
        "\n",
        "# Compute precision, recall, and f1 score\n",
        "precision = precision_score(y_test_imputed, predicted_labels, average='binary')\n",
        "recall = recall_score(y_test_imputed, predicted_labels, average='binary')\n",
        "f1 = f1_score(y_test_imputed, predicted_labels, average='binary')\n",
        "\n",
        "print(f'Precision: {precision}')\n",
        "print(f'Recall: {recall}')\n",
        "print(f'F1 Score: {f1}')\n",
        "\n",
        "# Compute the confusion matrix\n",
        "conf_matrix = confusion_matrix(y_test_imputed, predicted_labels)\n",
        "print('Confusion Matrix:')\n",
        "print(conf_matrix)\n",
        "\n",
        "# Generate the classification report\n",
        "class_report = classification_report(y_test_imputed, predicted_labels, target_names=['Class 0', 'Class 1'])\n",
        "print('Classification Report:')\n",
        "print(class_report)\n",
        "\n",
        "# Plot the confusion matrix using a heatmap\n",
        "plt.figure(figsize=(8, 6))\n",
        "sns.heatmap(conf_matrix, annot=True, fmt='d', cmap='Blues', xticklabels=['Class 0', 'Class 1'], yticklabels=['Class 0', 'Class 1'])\n",
        "plt.xlabel('Predicted')\n",
        "plt.ylabel('Actual')\n",
        "plt.title('Confusion Matrix')\n",
        "plt.show()\n"
      ],
      "metadata": {
        "colab": {
          "base_uri": "https://localhost:8080/",
          "height": 1000
        },
        "id": "K6MZYexZP7ed",
        "outputId": "332cf1d1-9554-4b11-8426-f7e11bf850da"
      },
      "execution_count": 12,
      "outputs": [
        {
          "output_type": "stream",
          "name": "stdout",
          "text": [
            "Misclassified instances:\n",
            "                                                  Text  Actual_Label  \\\n",
            "242  onc outsid conserv koch network warm trump gli...           1.0   \n",
            "494  whoa clinton grifter bag million blood miner f...           0.0   \n",
            "528  muslim athlet given hero welcom indict sexual ...           0.0   \n",
            "838  trump reject futur pull pari climat pact obama...           1.0   \n",
            "463  bombshel frustrat outgo armi gener say obama m...           0.0   \n",
            "449  senat democrat plan forc guncontrol amend gop ...           0.0   \n",
            "551  argentin court sentenc life dictatorship crime...           1.0   \n",
            "705  senat give trump jr ultimatum respond friday f...           0.0   \n",
            "223  obama epa push tougher mileag standard truck e...           0.0   \n",
            "587  us presid trump arriv israel flight riyadh us ...           1.0   \n",
            "233  pope urg trump show concern poor guid ethic va...           1.0   \n",
            "994  clint eastwood trump say dumb thing peopl get ...           1.0   \n",
            "19   clinton gain onlin bet market us presidenti de...           1.0   \n",
            "806  first admiss trump ralli come email donald tru...           1.0   \n",
            "268  clinton lead trump five point white hous race ...           1.0   \n",
            "893  text michael flynn letter resign nation secur ...           1.0   \n",
            "837  dem senat promis filibust gorsuch becaus trump...           0.0   \n",
            "801  wordthat parent beauti young woman murder ille...           0.0   \n",
            "\n",
            "     Predicted_Label  \n",
            "242              0.0  \n",
            "494              1.0  \n",
            "528              1.0  \n",
            "838              0.0  \n",
            "463              1.0  \n",
            "449              1.0  \n",
            "551              0.0  \n",
            "705              1.0  \n",
            "223              1.0  \n",
            "587              0.0  \n",
            "233              0.0  \n",
            "994              0.0  \n",
            "19               0.0  \n",
            "806              0.0  \n",
            "268              0.0  \n",
            "893              0.0  \n",
            "837              1.0  \n",
            "801              1.0  \n",
            "Precision: 0.9420289855072463\n",
            "Recall: 0.9285714285714286\n",
            "F1 Score: 0.935251798561151\n",
            "Confusion Matrix:\n",
            "[[152   8]\n",
            " [ 10 130]]\n",
            "Classification Report:\n",
            "              precision    recall  f1-score   support\n",
            "\n",
            "     Class 0       0.94      0.95      0.94       160\n",
            "     Class 1       0.94      0.93      0.94       140\n",
            "\n",
            "    accuracy                           0.94       300\n",
            "   macro avg       0.94      0.94      0.94       300\n",
            "weighted avg       0.94      0.94      0.94       300\n",
            "\n"
          ]
        },
        {
          "output_type": "display_data",
          "data": {
            "text/plain": [
              "<Figure size 800x600 with 2 Axes>"
            ],
            "image/png": "[encoded data removed]"
          },
          "metadata": {}
        }
      ]
    }
  ]
}