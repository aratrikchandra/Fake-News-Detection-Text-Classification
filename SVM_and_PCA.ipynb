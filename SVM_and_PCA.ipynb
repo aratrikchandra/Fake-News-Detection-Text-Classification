{
  "nbformat": 4,
  "nbformat_minor": 0,
  "metadata": {
    "colab": {
      "provenance": [],
      "gpuType": "T4"
    },
    "kernelspec": {
      "name": "python3",
      "display_name": "Python 3"
    },
    "language_info": {
      "name": "python"
    },
    "accelerator": "GPU"
  },
  "cells": [
    {
      "cell_type": "code",
      "source": [
        "!rm -rf \"/content/Fake-News-Detection-Text-Classification\""
      ],
      "metadata": {
        "id": "XQw1e9v1MOz5"
      },
      "execution_count": 1,
      "outputs": []
    },
    {
      "cell_type": "code",
      "execution_count": 2,
      "metadata": {
        "id": "9Eqdm6Z5FQdh"
      },
      "outputs": [],
      "source": [
        "import pandas as pd"
      ]
    },
    {
      "cell_type": "code",
      "source": [
        "!git clone https://github.com/shariqfz/Fake-News-Detection-Text-Classification.git"
      ],
      "metadata": {
        "colab": {
          "base_uri": "https://localhost:8080/"
        },
        "id": "YxUAjsf6FSeD",
        "outputId": "eaba7df1-ebfc-4cb0-daf1-bf4424c53c0c"
      },
      "execution_count": 3,
      "outputs": [
        {
          "output_type": "stream",
          "name": "stdout",
          "text": [
            "Cloning into 'Fake-News-Detection-Text-Classification'...\n",
            "remote: Enumerating objects: 67, done.\u001b[K\n",
            "remote: Counting objects: 100% (58/58), done.\u001b[K\n",
            "remote: Compressing objects: 100% (51/51), done.\u001b[K\n",
            "remote: Total 67 (delta 21), reused 19 (delta 3), pack-reused 9\u001b[K\n",
            "Receiving objects: 100% (67/67), 142.43 MiB | 9.86 MiB/s, done.\n",
            "Resolving deltas: 100% (21/21), done.\n",
            "Updating files: 100% (16/16), done.\n"
          ]
        }
      ]
    },
    {
      "cell_type": "code",
      "source": [
        "# data_path = \"/content/Fake-News-Detection-Text-Classification/data/HateSpeech/hate_speech_cleaned_and_stopword_removed_combined_data.csv\"\n",
        "\n",
        "hate_speech_data_path = \"/content/Fake-News-Detection-Text-Classification/data/hate_speech_concatenated_in_text.csv\"\n",
        "\n",
        "data = pd.read_csv(hate_speech_data_path)"
      ],
      "metadata": {
        "id": "eXRuFS2zFYHo"
      },
      "execution_count": 4,
      "outputs": []
    },
    {
      "cell_type": "code",
      "source": [
        "data.head()"
      ],
      "metadata": {
        "colab": {
          "base_uri": "https://localhost:8080/",
          "height": 206
        },
        "id": "6uRl4uqQFlhb",
        "outputId": "02d20224-9862-443b-c88c-f073297dc9dd"
      },
      "execution_count": 5,
      "outputs": [
        {
          "output_type": "execute_result",
          "data": {
            "text/plain": [
              "   Unnamed: 0.1  Unnamed: 0  \\\n",
              "0          7915        7915   \n",
              "1          1856        1856   \n",
              "2          2867        2867   \n",
              "3          9974        9974   \n",
              "4          1034        1034   \n",
              "\n",
              "                                                text  Label  hate_speech_class  \n",
              "0  trump loss would upset verdict histori allan l...    1.0                  2  \n",
              "1  trump side democrat debt limit rare bipartisan...    1.0                  2  \n",
              "2  china xi call peacemak effort north korea xinh...    1.0                  2  \n",
              "3  us presidenti rival clinton sander tie support...    1.0                  2  \n",
              "4  trump unlik pick cohn fed crucial tax reform d...    1.0                  2  "
            ],
            "text/html": [
              "\n",
              "  <div id=\"df-b542ebc9-cea6-4ee1-be87-7954417bcc33\" class=\"colab-df-container\">\n",
              "    <div>\n",
              "<style scoped>\n",
              "    .dataframe tbody tr th:only-of-type {\n",
              "        vertical-align: middle;\n",
              "    }\n",
              "\n",
              "    .dataframe tbody tr th {\n",
              "        vertical-align: top;\n",
              "    }\n",
              "\n",
              "    .dataframe thead th {\n",
              "        text-align: right;\n",
              "    }\n",
              "</style>\n",
              "<table border=\"1\" class=\"dataframe\">\n",
              "  <thead>\n",
              "    <tr style=\"text-align: right;\">\n",
              "      <th></th>\n",
              "      <th>Unnamed: 0.1</th>\n",
              "      <th>Unnamed: 0</th>\n",
              "      <th>text</th>\n",
              "      <th>Label</th>\n",
              "      <th>hate_speech_class</th>\n",
              "    </tr>\n",
              "  </thead>\n",
              "  <tbody>\n",
              "    <tr>\n",
              "      <th>0</th>\n",
              "      <td>7915</td>\n",
              "      <td>7915</td>\n",
              "      <td>trump loss would upset verdict histori allan l...</td>\n",
              "      <td>1.0</td>\n",
              "      <td>2</td>\n",
              "    </tr>\n",
              "    <tr>\n",
              "      <th>1</th>\n",
              "      <td>1856</td>\n",
              "      <td>1856</td>\n",
              "      <td>trump side democrat debt limit rare bipartisan...</td>\n",
              "      <td>1.0</td>\n",
              "      <td>2</td>\n",
              "    </tr>\n",
              "    <tr>\n",
              "      <th>2</th>\n",
              "      <td>2867</td>\n",
              "      <td>2867</td>\n",
              "      <td>china xi call peacemak effort north korea xinh...</td>\n",
              "      <td>1.0</td>\n",
              "      <td>2</td>\n",
              "    </tr>\n",
              "    <tr>\n",
              "      <th>3</th>\n",
              "      <td>9974</td>\n",
              "      <td>9974</td>\n",
              "      <td>us presidenti rival clinton sander tie support...</td>\n",
              "      <td>1.0</td>\n",
              "      <td>2</td>\n",
              "    </tr>\n",
              "    <tr>\n",
              "      <th>4</th>\n",
              "      <td>1034</td>\n",
              "      <td>1034</td>\n",
              "      <td>trump unlik pick cohn fed crucial tax reform d...</td>\n",
              "      <td>1.0</td>\n",
              "      <td>2</td>\n",
              "    </tr>\n",
              "  </tbody>\n",
              "</table>\n",
              "</div>\n",
              "    <div class=\"colab-df-buttons\">\n",
              "\n",
              "  <div class=\"colab-df-container\">\n",
              "    <button class=\"colab-df-convert\" onclick=\"convertToInteractive('df-b542ebc9-cea6-4ee1-be87-7954417bcc33')\"\n",
              "            title=\"Convert this dataframe to an interactive table.\"\n",
              "            style=\"display:none;\">\n",
              "\n",
              "  <svg xmlns=\"http://www.w3.org/2000/svg\" height=\"24px\" viewBox=\"0 -960 960 960\">\n",
              "    <path d=\"M120-120v-720h720v720H120Zm60-500h600v-160H180v160Zm220 220h160v-160H400v160Zm0 220h160v-160H400v160ZM180-400h160v-160H180v160Zm440 0h160v-160H620v160ZM180-180h160v-160H180v160Zm440 0h160v-160H620v160Z\"/>\n",
              "  </svg>\n",
              "    </button>\n",
              "\n",
              "  <style>\n",
              "    .colab-df-container {\n",
              "      display:flex;\n",
              "      gap: 12px;\n",
              "    }\n",
              "\n",
              "    .colab-df-convert {\n",
              "      background-color: #E8F0FE;\n",
              "      border: none;\n",
              "      border-radius: 50%;\n",
              "      cursor: pointer;\n",
              "      display: none;\n",
              "      fill: #1967D2;\n",
              "      height: 32px;\n",
              "      padding: 0 0 0 0;\n",
              "      width: 32px;\n",
              "    }\n",
              "\n",
              "    .colab-df-convert:hover {\n",
              "      background-color: #E2EBFA;\n",
              "      box-shadow: 0px 1px 2px rgba(60, 64, 67, 0.3), 0px 1px 3px 1px rgba(60, 64, 67, 0.15);\n",
              "      fill: #174EA6;\n",
              "    }\n",
              "\n",
              "    .colab-df-buttons div {\n",
              "      margin-bottom: 4px;\n",
              "    }\n",
              "\n",
              "    [theme=dark] .colab-df-convert {\n",
              "      background-color: #3B4455;\n",
              "      fill: #D2E3FC;\n",
              "    }\n",
              "\n",
              "    [theme=dark] .colab-df-convert:hover {\n",
              "      background-color: #434B5C;\n",
              "      box-shadow: 0px 1px 3px 1px rgba(0, 0, 0, 0.15);\n",
              "      filter: drop-shadow(0px 1px 2px rgba(0, 0, 0, 0.3));\n",
              "      fill: #FFFFFF;\n",
              "    }\n",
              "  </style>\n",
              "\n",
              "    <script>\n",
              "      const buttonEl =\n",
              "        document.querySelector('#df-b542ebc9-cea6-4ee1-be87-7954417bcc33 button.colab-df-convert');\n",
              "      buttonEl.style.display =\n",
              "        google.colab.kernel.accessAllowed ? 'block' : 'none';\n",
              "\n",
              "      async function convertToInteractive(key) {\n",
              "        const element = document.querySelector('#df-b542ebc9-cea6-4ee1-be87-7954417bcc33');\n",
              "        const dataTable =\n",
              "          await google.colab.kernel.invokeFunction('convertToInteractive',\n",
              "                                                    [key], {});\n",
              "        if (!dataTable) return;\n",
              "\n",
              "        const docLinkHtml = 'Like what you see? Visit the ' +\n",
              "          '<a target=\"_blank\" href=https://colab.research.google.com/notebooks/data_table.ipynb>data table notebook</a>'\n",
              "          + ' to learn more about interactive tables.';\n",
              "        element.innerHTML = '';\n",
              "        dataTable['output_type'] = 'display_data';\n",
              "        await google.colab.output.renderOutput(dataTable, element);\n",
              "        const docLink = document.createElement('div');\n",
              "        docLink.innerHTML = docLinkHtml;\n",
              "        element.appendChild(docLink);\n",
              "      }\n",
              "    </script>\n",
              "  </div>\n",
              "\n",
              "\n",
              "<div id=\"df-0f1ddd55-04e1-45cd-ac21-63f6baba69e4\">\n",
              "  <button class=\"colab-df-quickchart\" onclick=\"quickchart('df-0f1ddd55-04e1-45cd-ac21-63f6baba69e4')\"\n",
              "            title=\"Suggest charts\"\n",
              "            style=\"display:none;\">\n",
              "\n",
              "<svg xmlns=\"http://www.w3.org/2000/svg\" height=\"24px\"viewBox=\"0 0 24 24\"\n",
              "     width=\"24px\">\n",
              "    <g>\n",
              "        <path d=\"M19 3H5c-1.1 0-2 .9-2 2v14c0 1.1.9 2 2 2h14c1.1 0 2-.9 2-2V5c0-1.1-.9-2-2-2zM9 17H7v-7h2v7zm4 0h-2V7h2v10zm4 0h-2v-4h2v4z\"/>\n",
              "    </g>\n",
              "</svg>\n",
              "  </button>\n",
              "\n",
              "<style>\n",
              "  .colab-df-quickchart {\n",
              "      --bg-color: #E8F0FE;\n",
              "      --fill-color: #1967D2;\n",
              "      --hover-bg-color: #E2EBFA;\n",
              "      --hover-fill-color: #174EA6;\n",
              "      --disabled-fill-color: #AAA;\n",
              "      --disabled-bg-color: #DDD;\n",
              "  }\n",
              "\n",
              "  [theme=dark] .colab-df-quickchart {\n",
              "      --bg-color: #3B4455;\n",
              "      --fill-color: #D2E3FC;\n",
              "      --hover-bg-color: #434B5C;\n",
              "      --hover-fill-color: #FFFFFF;\n",
              "      --disabled-bg-color: #3B4455;\n",
              "      --disabled-fill-color: #666;\n",
              "  }\n",
              "\n",
              "  .colab-df-quickchart {\n",
              "    background-color: var(--bg-color);\n",
              "    border: none;\n",
              "    border-radius: 50%;\n",
              "    cursor: pointer;\n",
              "    display: none;\n",
              "    fill: var(--fill-color);\n",
              "    height: 32px;\n",
              "    padding: 0;\n",
              "    width: 32px;\n",
              "  }\n",
              "\n",
              "  .colab-df-quickchart:hover {\n",
              "    background-color: var(--hover-bg-color);\n",
              "    box-shadow: 0 1px 2px rgba(60, 64, 67, 0.3), 0 1px 3px 1px rgba(60, 64, 67, 0.15);\n",
              "    fill: var(--button-hover-fill-color);\n",
              "  }\n",
              "\n",
              "  .colab-df-quickchart-complete:disabled,\n",
              "  .colab-df-quickchart-complete:disabled:hover {\n",
              "    background-color: var(--disabled-bg-color);\n",
              "    fill: var(--disabled-fill-color);\n",
              "    box-shadow: none;\n",
              "  }\n",
              "\n",
              "  .colab-df-spinner {\n",
              "    border: 2px solid var(--fill-color);\n",
              "    border-color: transparent;\n",
              "    border-bottom-color: var(--fill-color);\n",
              "    animation:\n",
              "      spin 1s steps(1) infinite;\n",
              "  }\n",
              "\n",
              "  @keyframes spin {\n",
              "    0% {\n",
              "      border-color: transparent;\n",
              "      border-bottom-color: var(--fill-color);\n",
              "      border-left-color: var(--fill-color);\n",
              "    }\n",
              "    20% {\n",
              "      border-color: transparent;\n",
              "      border-left-color: var(--fill-color);\n",
              "      border-top-color: var(--fill-color);\n",
              "    }\n",
              "    30% {\n",
              "      border-color: transparent;\n",
              "      border-left-color: var(--fill-color);\n",
              "      border-top-color: var(--fill-color);\n",
              "      border-right-color: var(--fill-color);\n",
              "    }\n",
              "    40% {\n",
              "      border-color: transparent;\n",
              "      border-right-color: var(--fill-color);\n",
              "      border-top-color: var(--fill-color);\n",
              "    }\n",
              "    60% {\n",
              "      border-color: transparent;\n",
              "      border-right-color: var(--fill-color);\n",
              "    }\n",
              "    80% {\n",
              "      border-color: transparent;\n",
              "      border-right-color: var(--fill-color);\n",
              "      border-bottom-color: var(--fill-color);\n",
              "    }\n",
              "    90% {\n",
              "      border-color: transparent;\n",
              "      border-bottom-color: var(--fill-color);\n",
              "    }\n",
              "  }\n",
              "</style>\n",
              "\n",
              "  <script>\n",
              "    async function quickchart(key) {\n",
              "      const quickchartButtonEl =\n",
              "        document.querySelector('#' + key + ' button');\n",
              "      quickchartButtonEl.disabled = true;  // To prevent multiple clicks.\n",
              "      quickchartButtonEl.classList.add('colab-df-spinner');\n",
              "      try {\n",
              "        const charts = await google.colab.kernel.invokeFunction(\n",
              "            'suggestCharts', [key], {});\n",
              "      } catch (error) {\n",
              "        console.error('Error during call to suggestCharts:', error);\n",
              "      }\n",
              "      quickchartButtonEl.classList.remove('colab-df-spinner');\n",
              "      quickchartButtonEl.classList.add('colab-df-quickchart-complete');\n",
              "    }\n",
              "    (() => {\n",
              "      let quickchartButtonEl =\n",
              "        document.querySelector('#df-0f1ddd55-04e1-45cd-ac21-63f6baba69e4 button');\n",
              "      quickchartButtonEl.style.display =\n",
              "        google.colab.kernel.accessAllowed ? 'block' : 'none';\n",
              "    })();\n",
              "  </script>\n",
              "</div>\n",
              "    </div>\n",
              "  </div>\n"
            ]
          },
          "metadata": {},
          "execution_count": 5
        }
      ]
    },
    {
      "cell_type": "code",
      "source": [
        "data['text'].iloc[0]"
      ],
      "metadata": {
        "colab": {
          "base_uri": "https://localhost:8080/",
          "height": 165
        },
        "id": "XEFIk12xFq9Z",
        "outputId": "3d7d1635-89ea-4734-aa47-39cbca04bc43"
      },
      "execution_count": 6,
      "outputs": [
        {
          "output_type": "execute_result",
          "data": {
            "text/plain": [
              "'trump loss would upset verdict histori allan lichtman forc influenc us presidenti elect favor republican nomine donald trump win popular vote even proven predict model face difficult elect far predict accur polit forecast threedecad win streak said wednesday histori professor allan lichtman american univers washington ha accur predict popular result presidenti elect sinc republican presid ronald reagan defeat democrat challeng walter mondal although number ballot cast voter candid count doe ultim determin take white hous process known elector colleg candid win major elector vote victor state district columbia alloc certain number vote candid amass statebyst elect day lichtman key white hous analysi predict popular victori trump model fivethirtyeight new york time given democrat rival hillari clinton larg probabl victori lichtman join reuter global market forum discuss hi take campaign follow excerpt convers question whi trump favorit win answer respect predict key system base truefals question answer true favor reelect white hous parti democrat exactli six fals key enough predict defeat howev also note donald trump danger precedentbreak candid could upset verdict histori snatch defeat jaw victori two candid repeatedli factcheck independ sourc hi lie vastli outnumb q big immigr issu decid elect think immigr veri import issu america nation immigr immigr demean two centuri french irish jew asian mexican muslim two candid fundament differ approach deal issu q expect next two debat trump ha got convinc voter ha tempera knowledg background depend effect leader tri without lose hi base never abandon first debat wa definit lost opportun trump may hard regain obama lost first debat mitt romney voter still mani doubt trump term tempera could take lesson penc trump ha great deal difficulti prepar debat keep control Neither Hate Speech nor Offensive'"
            ],
            "application/vnd.google.colaboratory.intrinsic+json": {
              "type": "string"
            }
          },
          "metadata": {},
          "execution_count": 6
        }
      ]
    },
    {
      "cell_type": "code",
      "source": [
        "\"\"\"\n",
        "class meanings:\n",
        "\n",
        "0 - hate speech\n",
        "1 - offensive language\n",
        "2 - neither\n",
        "\n",
        "\"\"\""
      ],
      "metadata": {
        "colab": {
          "base_uri": "https://localhost:8080/",
          "height": 36
        },
        "id": "FUiNNPeDFxuw",
        "outputId": "cd7aaea5-62d5-49a3-d367-ea5932b56af9"
      },
      "execution_count": 7,
      "outputs": [
        {
          "output_type": "execute_result",
          "data": {
            "text/plain": [
              "'\\nclass meanings:\\n\\n0 - hate speech\\n1 - offensive language\\n2 - neither\\n\\n'"
            ],
            "application/vnd.google.colaboratory.intrinsic+json": {
              "type": "string"
            }
          },
          "metadata": {},
          "execution_count": 7
        }
      ]
    },
    {
      "cell_type": "code",
      "source": [
        "from sklearn.model_selection import train_test_split\n",
        "X=data['text']\n",
        "Y_1=data['Label']\n",
        "Y_2=data['hate_speech_class']\n",
        "Y=Y_1+Y_2\n",
        "x_train, x_test, y_train, y_test = train_test_split(X,Y,test_size = 0.30, random_state = 1)"
      ],
      "metadata": {
        "id": "M9uKkht-GMFA"
      },
      "execution_count": 5,
      "outputs": []
    },
    {
      "cell_type": "code",
      "source": [
        "from sklearn.feature_extraction.text import CountVectorizer\n",
        "from sklearn.decomposition import PCA\n",
        "import numpy as np\n",
        "\n",
        "# Vectorize text data\n",
        "vc = CountVectorizer()\n",
        "features_train = vc.fit_transform(x_train)\n",
        "features_test = vc.transform(x_test)\n",
        "\n",
        "# Convert features_train to a NumPy array\n",
        "features_train_array = features_train.toarray()\n",
        "\n",
        "# Determine the minimum number of components based on the number of features\n",
        "n_components = min(features_train_array.shape[0], features_train_array.shape[1])\n",
        "\n",
        "# Apply consistent dimensionality reduction using PCA\n",
        "pca = PCA(n_components=n_components)\n",
        "features_train_reduced = pca.fit_transform(features_train_array)\n",
        "\n",
        "# Convert features_test to a NumPy array\n",
        "features_test_array = features_test.toarray()\n",
        "\n",
        "# Apply the same PCA transformation to the testing set\n",
        "features_test_reduced = pca.transform(features_test_array)\n",
        "\n",
        "# Continue with the rest of your code\n",
        "\n"
      ],
      "metadata": {
        "id": "-hGn9wARUvuV"
      },
      "execution_count": 6,
      "outputs": []
    },
    {
      "cell_type": "code",
      "source": [
        "import numpy as np\n",
        "from sklearn.impute import SimpleImputer\n",
        "from sklearn import svm\n",
        "\n",
        "# Assuming y_train is a NumPy array\n",
        "y_train = y_train.values.reshape(-1, 1)\n",
        "\n",
        "imputer = SimpleImputer(strategy='most_frequent')\n",
        "y_train_imputed = imputer.fit_transform(y_train)\n",
        "\n",
        "# Continue with the rest of your code\n",
        "model = svm.SVC()\n",
        "model.fit(features_train_reduced, y_train_imputed)\n",
        "print(features_train_reduced.shape, y_train_imputed.shape)\n"
      ],
      "metadata": {
        "colab": {
          "base_uri": "https://localhost:8080/"
        },
        "id": "YpYvRY7LB2Wi",
        "outputId": "c26fa221-5b58-4c92-f70a-bea92e837219"
      },
      "execution_count": 10,
      "outputs": [
        {
          "output_type": "stream",
          "name": "stderr",
          "text": [
            "/usr/local/lib/python3.10/dist-packages/sklearn/utils/validation.py:1143: DataConversionWarning: A column-vector y was passed when a 1d array was expected. Please change the shape of y to (n_samples, ), for example using ravel().\n",
            "  y = column_or_1d(y, warn=True)\n"
          ]
        },
        {
          "output_type": "stream",
          "name": "stdout",
          "text": [
            "(7000, 7000) (7000, 1)\n"
          ]
        }
      ]
    },
    {
      "cell_type": "code",
      "source": [
        "from sklearn.impute import SimpleImputer\n",
        "import numpy as np\n",
        "imputer = SimpleImputer(strategy='most_frequent')\n",
        "imputer.fit(features_test_reduced)\n",
        "features_test_imputed = imputer.transform(features_test_reduced)\n",
        "y_test = np.array(y_test).reshape(-1, 1)\n",
        "y_test_imputed = imputer.fit_transform(y_test)\n",
        "y_test_imputed = y_test_imputed.reshape(-1, 1)  # Reshape to a 2D array\n",
        "\n",
        "# Now, you can check the accuracy\n",
        "accuracy = model.score(features_test_imputed, y_test_imputed)\n",
        "print(f'Accuracy: {round(accuracy * 100, 2)}%')"
      ],
      "metadata": {
        "colab": {
          "base_uri": "https://localhost:8080/"
        },
        "id": "VcLQW6NXB-z5",
        "outputId": "9215bf19-4a74-4d05-d33e-80227bd23040"
      },
      "execution_count": 11,
      "outputs": [
        {
          "output_type": "stream",
          "name": "stdout",
          "text": [
            "Accuracy: 96.87%\n"
          ]
        }
      ]
    },
    {
      "cell_type": "code",
      "source": [],
      "metadata": {
        "id": "IX4onagjDOkr"
      },
      "execution_count": null,
      "outputs": []
    }
  ]
}